{
 "cells": [
  {
   "cell_type": "code",
   "execution_count": 2,
   "metadata": {
    "pycharm": {
     "is_executing": true
    }
   },
   "outputs": [
    {
     "name": "stderr",
     "output_type": "stream",
     "text": [
      "[nltk_data] Downloading package stopwords to\n",
      "[nltk_data]     /Users/xingyuchen/nltk_data...\n",
      "[nltk_data]   Package stopwords is already up-to-date!\n"
     ]
    }
   ],
   "source": [
    "#!pip install nltk\n",
    "import numpy as np\n",
    "import re\n",
    "import nltk\n",
    "from nltk.corpus import stopwords\n",
    "nltk.download('stopwords')\n",
    "stop_words = set(stopwords.words('english'))\n",
    "\n",
    "def clean_tweet(tweet):\n",
    "    if type(tweet) == np.float:\n",
    "        return \"\"\n",
    "    temp = tweet.lower()\n",
    "    temp = re.sub(\"'\", \"\", temp) # to avoid removing contractions in english\n",
    "    temp = re.sub(\"@[A-Za-z0-9_]+\",\"\", temp)\n",
    "    temp = re.sub(\"#[A-Za-z0-9_]+\",\"\", temp)\n",
    "    temp = re.sub(r'http\\S+', '', temp)\n",
    "    temp = re.sub('[()!?]', ' ', temp)\n",
    "    temp = re.sub('\\[.*?\\]',' ', temp)\n",
    "    temp = re.sub(\"[^a-z0-9]\",\" \", temp)\n",
    "    temp = temp.split()\n",
    "    temp = [w for w in temp if not w in stop_words]\n",
    "    temp = \" \".join(word for word in temp)\n",
    "    return temp"
   ]
  },
  {
   "cell_type": "code",
   "execution_count": 3,
   "metadata": {},
   "outputs": [],
   "source": [
    "import pandas as pd\n",
    "tweets = pd.read_csv('prochoice_prolife.csv')"
   ]
  },
  {
   "cell_type": "code",
   "execution_count": 4,
   "metadata": {},
   "outputs": [
    {
     "data": {
      "text/html": [
       "<div>\n",
       "<style scoped>\n",
       "    .dataframe tbody tr th:only-of-type {\n",
       "        vertical-align: middle;\n",
       "    }\n",
       "\n",
       "    .dataframe tbody tr th {\n",
       "        vertical-align: top;\n",
       "    }\n",
       "\n",
       "    .dataframe thead th {\n",
       "        text-align: right;\n",
       "    }\n",
       "</style>\n",
       "<table border=\"1\" class=\"dataframe\">\n",
       "  <thead>\n",
       "    <tr style=\"text-align: right;\">\n",
       "      <th></th>\n",
       "      <th>Unnamed: 0</th>\n",
       "      <th>author_id</th>\n",
       "      <th>author_name</th>\n",
       "      <th>author_username</th>\n",
       "      <th>created_at</th>\n",
       "      <th>id</th>\n",
       "      <th>public_metrics</th>\n",
       "      <th>text</th>\n",
       "      <th>retweet_count</th>\n",
       "      <th>like_count</th>\n",
       "      <th>target</th>\n",
       "    </tr>\n",
       "  </thead>\n",
       "  <tbody>\n",
       "    <tr>\n",
       "      <th>0</th>\n",
       "      <td>28588</td>\n",
       "      <td>73506221</td>\n",
       "      <td>Oregon Right to Life</td>\n",
       "      <td>OR_RTL</td>\n",
       "      <td>2022-06-23 00:00:06+00:00</td>\n",
       "      <td>1539760170900799490</td>\n",
       "      <td>{'retweet_count': 5, 'reply_count': 0, 'like_c...</td>\n",
       "      <td>We know that unsupported pregnancies can gener...</td>\n",
       "      <td>5</td>\n",
       "      <td>13</td>\n",
       "      <td>1</td>\n",
       "    </tr>\n",
       "    <tr>\n",
       "      <th>1</th>\n",
       "      <td>28587</td>\n",
       "      <td>96631851</td>\n",
       "      <td>αιяgσ*мαтι¢*σρтιχ</td>\n",
       "      <td>sacraficial</td>\n",
       "      <td>2022-06-23 00:01:14+00:00</td>\n",
       "      <td>1539760456977395712</td>\n",
       "      <td>{'retweet_count': 0, 'reply_count': 0, 'like_c...</td>\n",
       "      <td>If you are murdered by a George W. Bush weapon...</td>\n",
       "      <td>0</td>\n",
       "      <td>0</td>\n",
       "      <td>1</td>\n",
       "    </tr>\n",
       "    <tr>\n",
       "      <th>2</th>\n",
       "      <td>28586</td>\n",
       "      <td>3041829701</td>\n",
       "      <td>skb</td>\n",
       "      <td>skb37027</td>\n",
       "      <td>2022-06-23 00:04:30+00:00</td>\n",
       "      <td>1539761277702213633</td>\n",
       "      <td>{'retweet_count': 0, 'reply_count': 0, 'like_c...</td>\n",
       "      <td>.@MarshaBlackburn so much for #ProLife. https:...</td>\n",
       "      <td>0</td>\n",
       "      <td>0</td>\n",
       "      <td>1</td>\n",
       "    </tr>\n",
       "    <tr>\n",
       "      <th>3</th>\n",
       "      <td>28537</td>\n",
       "      <td>177260708</td>\n",
       "      <td>Right To Life League</td>\n",
       "      <td>Right2LifeLg</td>\n",
       "      <td>2022-06-23 00:09:50+00:00</td>\n",
       "      <td>1539762620055552001</td>\n",
       "      <td>{'retweet_count': 6, 'reply_count': 3, 'like_c...</td>\n",
       "      <td>Follow our instagram for more posts like this!...</td>\n",
       "      <td>6</td>\n",
       "      <td>19</td>\n",
       "      <td>1</td>\n",
       "    </tr>\n",
       "    <tr>\n",
       "      <th>4</th>\n",
       "      <td>27450</td>\n",
       "      <td>1523376591052582912</td>\n",
       "      <td>No Forced Birth</td>\n",
       "      <td>NoForcedBirth</td>\n",
       "      <td>2022-06-23 00:09:57+00:00</td>\n",
       "      <td>1539762647922421763</td>\n",
       "      <td>{'retweet_count': 0, 'reply_count': 0, 'like_c...</td>\n",
       "      <td>Another classy tweet from the forced birth cro...</td>\n",
       "      <td>0</td>\n",
       "      <td>1</td>\n",
       "      <td>0</td>\n",
       "    </tr>\n",
       "  </tbody>\n",
       "</table>\n",
       "</div>"
      ],
      "text/plain": [
       "   Unnamed: 0            author_id           author_name author_username  \\\n",
       "0       28588             73506221  Oregon Right to Life          OR_RTL   \n",
       "1       28587             96631851     αιяgσ*мαтι¢*σρтιχ     sacraficial   \n",
       "2       28586           3041829701                   skb        skb37027   \n",
       "3       28537            177260708  Right To Life League    Right2LifeLg   \n",
       "4       27450  1523376591052582912       No Forced Birth   NoForcedBirth   \n",
       "\n",
       "                  created_at                   id  \\\n",
       "0  2022-06-23 00:00:06+00:00  1539760170900799490   \n",
       "1  2022-06-23 00:01:14+00:00  1539760456977395712   \n",
       "2  2022-06-23 00:04:30+00:00  1539761277702213633   \n",
       "3  2022-06-23 00:09:50+00:00  1539762620055552001   \n",
       "4  2022-06-23 00:09:57+00:00  1539762647922421763   \n",
       "\n",
       "                                      public_metrics  \\\n",
       "0  {'retweet_count': 5, 'reply_count': 0, 'like_c...   \n",
       "1  {'retweet_count': 0, 'reply_count': 0, 'like_c...   \n",
       "2  {'retweet_count': 0, 'reply_count': 0, 'like_c...   \n",
       "3  {'retweet_count': 6, 'reply_count': 3, 'like_c...   \n",
       "4  {'retweet_count': 0, 'reply_count': 0, 'like_c...   \n",
       "\n",
       "                                                text  retweet_count  \\\n",
       "0  We know that unsupported pregnancies can gener...              5   \n",
       "1  If you are murdered by a George W. Bush weapon...              0   \n",
       "2  .@MarshaBlackburn so much for #ProLife. https:...              0   \n",
       "3  Follow our instagram for more posts like this!...              6   \n",
       "4  Another classy tweet from the forced birth cro...              0   \n",
       "\n",
       "   like_count  target  \n",
       "0          13       1  \n",
       "1           0       1  \n",
       "2           0       1  \n",
       "3          19       1  \n",
       "4           1       0  "
      ]
     },
     "execution_count": 4,
     "metadata": {},
     "output_type": "execute_result"
    }
   ],
   "source": [
    "tweets.head()"
   ]
  },
  {
   "cell_type": "code",
   "execution_count": 5,
   "metadata": {},
   "outputs": [
    {
     "name": "stderr",
     "output_type": "stream",
     "text": [
      "/var/folders/3l/yzh9j02x7bxd463cl1x0_2lh0000gn/T/ipykernel_61094/1456591649.py:10: DeprecationWarning: `np.float` is a deprecated alias for the builtin `float`. To silence this warning, use `float` by itself. Doing this will not modify any behavior and is safe. If you specifically wanted the numpy scalar type, use `np.float64` here.\n",
      "Deprecated in NumPy 1.20; for more details and guidance: https://numpy.org/devdocs/release/1.20.0-notes.html#deprecations\n",
      "  if type(tweet) == np.float:\n"
     ]
    }
   ],
   "source": [
    "tweets_text = tweets['text']\n",
    "results = [clean_tweet(tw) for tw in tweets_text]\n",
    "df = pd.DataFrame(results)\n",
    "df.to_csv('clean.csv', index=False)"
   ]
  }
 ],
 "metadata": {
  "kernelspec": {
   "display_name": "Python 3 (ipykernel)",
   "language": "python",
   "name": "python3"
  },
  "language_info": {
   "codemirror_mode": {
    "name": "ipython",
    "version": 3
   },
   "file_extension": ".py",
   "mimetype": "text/x-python",
   "name": "python",
   "nbconvert_exporter": "python",
   "pygments_lexer": "ipython3",
   "version": "3.9.7"
  }
 },
 "nbformat": 4,
 "nbformat_minor": 1
}
